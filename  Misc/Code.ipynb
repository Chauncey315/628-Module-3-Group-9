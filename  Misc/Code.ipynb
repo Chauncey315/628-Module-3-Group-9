{
  "nbformat": 4,
  "nbformat_minor": 0,
  "metadata": {
    "colab": {
      "name": "Code.ipynb",
      "provenance": [],
      "toc_visible": true,
      "machine_shape": "hm",
      "include_colab_link": true
    },
    "kernelspec": {
      "name": "python3",
      "display_name": "Python 3"
    }
  },
  "cells": [
    {
      "cell_type": "markdown",
      "metadata": {
        "id": "view-in-github",
        "colab_type": "text"
      },
      "source": [
        "<a href=\"https://colab.research.google.com/github/YezhouLi/628-Module-3-Group-9/blob/master/Code.ipynb\" target=\"_parent\"><img src=\"https://colab.research.google.com/assets/colab-badge.svg\" alt=\"Open In Colab\"/></a>"
      ]
    },
    {
      "cell_type": "code",
      "metadata": {
        "id": "H4ggVk7j63Go",
        "colab_type": "code",
        "outputId": "39ca7ccd-c3a7-42e2-9b58-43533c04d0b9",
        "colab": {
          "base_uri": "https://localhost:8080/",
          "height": 34
        }
      },
      "source": [
        "from google.colab import drive\n",
        "drive.mount('/content/drive')"
      ],
      "execution_count": 24,
      "outputs": [
        {
          "output_type": "stream",
          "text": [
            "Mounted at /content/drive\n"
          ],
          "name": "stdout"
        }
      ]
    },
    {
      "cell_type": "code",
      "metadata": {
        "id": "i_VUQ_1ZWkOS",
        "colab_type": "code",
        "colab": {}
      },
      "source": [
        "import pandas as pd\n",
        "import numpy as np\n",
        "import pymongo as pm\n",
        "import re\n",
        "from wordcloud import WordCloud           # Import the wordcloud library\n",
        "from collections import Counter"
      ],
      "execution_count": 0,
      "outputs": []
    },
    {
      "cell_type": "code",
      "metadata": {
        "id": "EguZU6vTWIKT",
        "colab_type": "code",
        "colab": {}
      },
      "source": [
        "dataPath = \"/content/drive/My Drive/data/\""
      ],
      "execution_count": 0,
      "outputs": []
    },
    {
      "cell_type": "code",
      "metadata": {
        "id": "uQHW2ng8Yp9_",
        "colab_type": "code",
        "colab": {}
      },
      "source": [
        "# takes a lot of time to read csv file\n",
        "# be careful when running this cell\n",
        "business = pd.read_csv(dataPath + \"business.csv\",\n",
        "                      dtype={6:np.string_ , 28:np.string_ , 31:np.string_ })\n",
        "# column (6, 28, 31) has mixed data type\n",
        "# load them as string"
      ],
      "execution_count": 0,
      "outputs": []
    },
    {
      "cell_type": "code",
      "metadata": {
        "id": "BSv7onTxWhlA",
        "colab_type": "code",
        "colab": {}
      },
      "source": [
        "# takes a lot of time to read csv file\n",
        "# be careful when running this cell\n",
        "review = pd.read_csv(dataPath + \"review.csv\")"
      ],
      "execution_count": 0,
      "outputs": []
    },
    {
      "cell_type": "code",
      "metadata": {
        "id": "BoeuaYLJY0q2",
        "colab_type": "code",
        "colab": {}
      },
      "source": [
        "# takes a lot of time to read csv file\n",
        "# be careful when running this cell\n",
        "tip = pd.read_csv(dataPath + \"tip.csv\")"
      ],
      "execution_count": 0,
      "outputs": []
    },
    {
      "cell_type": "code",
      "metadata": {
        "id": "gzfNoRWqZ28v",
        "colab_type": "code",
        "outputId": "5e91fe6e-407c-46c7-b6bd-1922e767a07f",
        "colab": {
          "base_uri": "https://localhost:8080/",
          "height": 71
        }
      },
      "source": [
        "# takes a lot of time to read csv file\n",
        "# be careful when running this cell\n",
        "user = pd.read_csv(dataPath + \"user.csv\")"
      ],
      "execution_count": 0,
      "outputs": [
        {
          "output_type": "stream",
          "text": [
            "/usr/local/lib/python3.6/dist-packages/IPython/core/interactiveshell.py:2718: DtypeWarning: Columns (13) have mixed types. Specify dtype option on import or set low_memory=False.\n",
            "  interactivity=interactivity, compiler=compiler, result=result)\n"
          ],
          "name": "stderr"
        }
      ]
    },
    {
      "cell_type": "code",
      "metadata": {
        "id": "S7i0L4LvbsVC",
        "colab_type": "code",
        "outputId": "561f9d93-dede-48be-cf2e-56a6e1670ee0",
        "colab": {
          "base_uri": "https://localhost:8080/",
          "height": 530
        }
      },
      "source": [
        "business.head(5)"
      ],
      "execution_count": 27,
      "outputs": [
        {
          "output_type": "execute_result",
          "data": {
            "text/html": [
              "<div>\n",
              "<style scoped>\n",
              "    .dataframe tbody tr th:only-of-type {\n",
              "        vertical-align: middle;\n",
              "    }\n",
              "\n",
              "    .dataframe tbody tr th {\n",
              "        vertical-align: top;\n",
              "    }\n",
              "\n",
              "    .dataframe thead th {\n",
              "        text-align: right;\n",
              "    }\n",
              "</style>\n",
              "<table border=\"1\" class=\"dataframe\">\n",
              "  <thead>\n",
              "    <tr style=\"text-align: right;\">\n",
              "      <th></th>\n",
              "      <th>address</th>\n",
              "      <th>attributes</th>\n",
              "      <th>attributes_AcceptsInsurance</th>\n",
              "      <th>attributes_AgesAllowed</th>\n",
              "      <th>attributes_Alcohol</th>\n",
              "      <th>attributes_Ambience</th>\n",
              "      <th>attributes_BYOB</th>\n",
              "      <th>attributes_BYOBCorkage</th>\n",
              "      <th>attributes_BestNights</th>\n",
              "      <th>attributes_BikeParking</th>\n",
              "      <th>attributes_BusinessAcceptsBitcoin</th>\n",
              "      <th>attributes_BusinessAcceptsCreditCards</th>\n",
              "      <th>attributes_BusinessParking</th>\n",
              "      <th>attributes_ByAppointmentOnly</th>\n",
              "      <th>attributes_Caters</th>\n",
              "      <th>attributes_CoatCheck</th>\n",
              "      <th>attributes_Corkage</th>\n",
              "      <th>attributes_DietaryRestrictions</th>\n",
              "      <th>attributes_DogsAllowed</th>\n",
              "      <th>attributes_DriveThru</th>\n",
              "      <th>attributes_GoodForDancing</th>\n",
              "      <th>attributes_GoodForKids</th>\n",
              "      <th>attributes_GoodForMeal</th>\n",
              "      <th>attributes_HairSpecializesIn</th>\n",
              "      <th>attributes_HappyHour</th>\n",
              "      <th>attributes_HasTV</th>\n",
              "      <th>attributes_Music</th>\n",
              "      <th>attributes_NoiseLevel</th>\n",
              "      <th>attributes_Open24Hours</th>\n",
              "      <th>attributes_OutdoorSeating</th>\n",
              "      <th>attributes_RestaurantsAttire</th>\n",
              "      <th>attributes_RestaurantsCounterService</th>\n",
              "      <th>attributes_RestaurantsDelivery</th>\n",
              "      <th>attributes_RestaurantsGoodForGroups</th>\n",
              "      <th>attributes_RestaurantsPriceRange2</th>\n",
              "      <th>attributes_RestaurantsReservations</th>\n",
              "      <th>attributes_RestaurantsTableService</th>\n",
              "      <th>attributes_RestaurantsTakeOut</th>\n",
              "      <th>attributes_Smoking</th>\n",
              "      <th>attributes_WheelchairAccessible</th>\n",
              "      <th>attributes_WiFi</th>\n",
              "      <th>business_id</th>\n",
              "      <th>categories</th>\n",
              "      <th>city</th>\n",
              "      <th>hours</th>\n",
              "      <th>hours_Friday</th>\n",
              "      <th>hours_Monday</th>\n",
              "      <th>hours_Saturday</th>\n",
              "      <th>hours_Sunday</th>\n",
              "      <th>hours_Thursday</th>\n",
              "      <th>hours_Tuesday</th>\n",
              "      <th>hours_Wednesday</th>\n",
              "      <th>is_open</th>\n",
              "      <th>latitude</th>\n",
              "      <th>longitude</th>\n",
              "      <th>name</th>\n",
              "      <th>postal_code</th>\n",
              "      <th>review_count</th>\n",
              "      <th>stars</th>\n",
              "      <th>state</th>\n",
              "    </tr>\n",
              "  </thead>\n",
              "  <tbody>\n",
              "    <tr>\n",
              "      <th>0</th>\n",
              "      <td>2818 E Camino Acequia Drive</td>\n",
              "      <td>NaN</td>\n",
              "      <td>NaN</td>\n",
              "      <td>NaN</td>\n",
              "      <td>NaN</td>\n",
              "      <td>NaN</td>\n",
              "      <td>NaN</td>\n",
              "      <td>NaN</td>\n",
              "      <td>NaN</td>\n",
              "      <td>NaN</td>\n",
              "      <td>NaN</td>\n",
              "      <td>NaN</td>\n",
              "      <td>NaN</td>\n",
              "      <td>NaN</td>\n",
              "      <td>NaN</td>\n",
              "      <td>NaN</td>\n",
              "      <td>NaN</td>\n",
              "      <td>NaN</td>\n",
              "      <td>NaN</td>\n",
              "      <td>NaN</td>\n",
              "      <td>NaN</td>\n",
              "      <td>False</td>\n",
              "      <td>NaN</td>\n",
              "      <td>NaN</td>\n",
              "      <td>NaN</td>\n",
              "      <td>NaN</td>\n",
              "      <td>NaN</td>\n",
              "      <td>NaN</td>\n",
              "      <td>NaN</td>\n",
              "      <td>NaN</td>\n",
              "      <td>NaN</td>\n",
              "      <td>NaN</td>\n",
              "      <td>NaN</td>\n",
              "      <td>NaN</td>\n",
              "      <td>NaN</td>\n",
              "      <td>NaN</td>\n",
              "      <td>NaN</td>\n",
              "      <td>NaN</td>\n",
              "      <td>NaN</td>\n",
              "      <td>NaN</td>\n",
              "      <td>NaN</td>\n",
              "      <td>1SWheh84yJXfytovILXOAQ</td>\n",
              "      <td>Golf, Active Life</td>\n",
              "      <td>Phoenix</td>\n",
              "      <td>NaN</td>\n",
              "      <td>NaN</td>\n",
              "      <td>NaN</td>\n",
              "      <td>NaN</td>\n",
              "      <td>NaN</td>\n",
              "      <td>NaN</td>\n",
              "      <td>NaN</td>\n",
              "      <td>NaN</td>\n",
              "      <td>0</td>\n",
              "      <td>33.522143</td>\n",
              "      <td>-112.018481</td>\n",
              "      <td>Arizona Biltmore Golf Club</td>\n",
              "      <td>85016</td>\n",
              "      <td>5</td>\n",
              "      <td>3.0</td>\n",
              "      <td>AZ</td>\n",
              "    </tr>\n",
              "    <tr>\n",
              "      <th>1</th>\n",
              "      <td>30 Eglinton Avenue W</td>\n",
              "      <td>NaN</td>\n",
              "      <td>NaN</td>\n",
              "      <td>NaN</td>\n",
              "      <td>u'full_bar'</td>\n",
              "      <td>{'romantic': False, 'intimate': False, 'classy...</td>\n",
              "      <td>NaN</td>\n",
              "      <td>NaN</td>\n",
              "      <td>NaN</td>\n",
              "      <td>False</td>\n",
              "      <td>NaN</td>\n",
              "      <td>NaN</td>\n",
              "      <td>{'garage': False, 'street': False, 'validated'...</td>\n",
              "      <td>NaN</td>\n",
              "      <td>True</td>\n",
              "      <td>NaN</td>\n",
              "      <td>NaN</td>\n",
              "      <td>NaN</td>\n",
              "      <td>NaN</td>\n",
              "      <td>NaN</td>\n",
              "      <td>NaN</td>\n",
              "      <td>True</td>\n",
              "      <td>{'dessert': False, 'latenight': False, 'lunch'...</td>\n",
              "      <td>NaN</td>\n",
              "      <td>NaN</td>\n",
              "      <td>False</td>\n",
              "      <td>NaN</td>\n",
              "      <td>u'loud'</td>\n",
              "      <td>NaN</td>\n",
              "      <td>False</td>\n",
              "      <td>u'casual'</td>\n",
              "      <td>NaN</td>\n",
              "      <td>False</td>\n",
              "      <td>True</td>\n",
              "      <td>2</td>\n",
              "      <td>True</td>\n",
              "      <td>True</td>\n",
              "      <td>True</td>\n",
              "      <td>NaN</td>\n",
              "      <td>NaN</td>\n",
              "      <td>u'no'</td>\n",
              "      <td>QXAEGFB4oINsVuTFxEYKFQ</td>\n",
              "      <td>Specialty Food, Restaurants, Dim Sum, Imported...</td>\n",
              "      <td>Mississauga</td>\n",
              "      <td>NaN</td>\n",
              "      <td>9:0-1:0</td>\n",
              "      <td>9:0-0:0</td>\n",
              "      <td>9:0-1:0</td>\n",
              "      <td>9:0-0:0</td>\n",
              "      <td>9:0-0:0</td>\n",
              "      <td>9:0-0:0</td>\n",
              "      <td>9:0-0:0</td>\n",
              "      <td>1</td>\n",
              "      <td>43.605499</td>\n",
              "      <td>-79.652289</td>\n",
              "      <td>Emerald Chinese Restaurant</td>\n",
              "      <td>L5R 3E7</td>\n",
              "      <td>128</td>\n",
              "      <td>2.5</td>\n",
              "      <td>ON</td>\n",
              "    </tr>\n",
              "    <tr>\n",
              "      <th>2</th>\n",
              "      <td>10110 Johnston Rd, Ste 15</td>\n",
              "      <td>NaN</td>\n",
              "      <td>NaN</td>\n",
              "      <td>NaN</td>\n",
              "      <td>u'beer_and_wine'</td>\n",
              "      <td>{'romantic': False, 'intimate': False, 'touris...</td>\n",
              "      <td>NaN</td>\n",
              "      <td>NaN</td>\n",
              "      <td>NaN</td>\n",
              "      <td>True</td>\n",
              "      <td>NaN</td>\n",
              "      <td>True</td>\n",
              "      <td>{'garage': False, 'street': False, 'validated'...</td>\n",
              "      <td>NaN</td>\n",
              "      <td>False</td>\n",
              "      <td>NaN</td>\n",
              "      <td>NaN</td>\n",
              "      <td>NaN</td>\n",
              "      <td>NaN</td>\n",
              "      <td>NaN</td>\n",
              "      <td>NaN</td>\n",
              "      <td>True</td>\n",
              "      <td>{'dessert': False, 'latenight': False, 'lunch'...</td>\n",
              "      <td>NaN</td>\n",
              "      <td>NaN</td>\n",
              "      <td>True</td>\n",
              "      <td>NaN</td>\n",
              "      <td>u'average'</td>\n",
              "      <td>NaN</td>\n",
              "      <td>False</td>\n",
              "      <td>'casual'</td>\n",
              "      <td>NaN</td>\n",
              "      <td>False</td>\n",
              "      <td>True</td>\n",
              "      <td>2</td>\n",
              "      <td>True</td>\n",
              "      <td>True</td>\n",
              "      <td>True</td>\n",
              "      <td>NaN</td>\n",
              "      <td>NaN</td>\n",
              "      <td>u'no'</td>\n",
              "      <td>gnKjwL_1w79qoiV3IC_xQQ</td>\n",
              "      <td>Sushi Bars, Restaurants, Japanese</td>\n",
              "      <td>Charlotte</td>\n",
              "      <td>NaN</td>\n",
              "      <td>17:30-22:0</td>\n",
              "      <td>17:30-21:30</td>\n",
              "      <td>17:30-22:0</td>\n",
              "      <td>17:30-21:0</td>\n",
              "      <td>17:30-21:30</td>\n",
              "      <td>NaN</td>\n",
              "      <td>17:30-21:30</td>\n",
              "      <td>1</td>\n",
              "      <td>35.092564</td>\n",
              "      <td>-80.859132</td>\n",
              "      <td>Musashi Japanese Restaurant</td>\n",
              "      <td>28210</td>\n",
              "      <td>170</td>\n",
              "      <td>4.0</td>\n",
              "      <td>NC</td>\n",
              "    </tr>\n",
              "    <tr>\n",
              "      <th>3</th>\n",
              "      <td>15655 W Roosevelt St, Ste 237</td>\n",
              "      <td>NaN</td>\n",
              "      <td>NaN</td>\n",
              "      <td>NaN</td>\n",
              "      <td>NaN</td>\n",
              "      <td>NaN</td>\n",
              "      <td>NaN</td>\n",
              "      <td>NaN</td>\n",
              "      <td>NaN</td>\n",
              "      <td>NaN</td>\n",
              "      <td>NaN</td>\n",
              "      <td>NaN</td>\n",
              "      <td>NaN</td>\n",
              "      <td>NaN</td>\n",
              "      <td>NaN</td>\n",
              "      <td>NaN</td>\n",
              "      <td>NaN</td>\n",
              "      <td>NaN</td>\n",
              "      <td>NaN</td>\n",
              "      <td>NaN</td>\n",
              "      <td>NaN</td>\n",
              "      <td>NaN</td>\n",
              "      <td>NaN</td>\n",
              "      <td>NaN</td>\n",
              "      <td>NaN</td>\n",
              "      <td>NaN</td>\n",
              "      <td>NaN</td>\n",
              "      <td>NaN</td>\n",
              "      <td>NaN</td>\n",
              "      <td>NaN</td>\n",
              "      <td>NaN</td>\n",
              "      <td>NaN</td>\n",
              "      <td>NaN</td>\n",
              "      <td>NaN</td>\n",
              "      <td>NaN</td>\n",
              "      <td>NaN</td>\n",
              "      <td>NaN</td>\n",
              "      <td>NaN</td>\n",
              "      <td>NaN</td>\n",
              "      <td>NaN</td>\n",
              "      <td>NaN</td>\n",
              "      <td>xvX2CttrVhyG2z1dFg_0xw</td>\n",
              "      <td>Insurance, Financial Services</td>\n",
              "      <td>Goodyear</td>\n",
              "      <td>NaN</td>\n",
              "      <td>8:0-17:0</td>\n",
              "      <td>8:0-17:0</td>\n",
              "      <td>NaN</td>\n",
              "      <td>NaN</td>\n",
              "      <td>8:0-17:0</td>\n",
              "      <td>8:0-17:0</td>\n",
              "      <td>8:0-17:0</td>\n",
              "      <td>1</td>\n",
              "      <td>33.455613</td>\n",
              "      <td>-112.395596</td>\n",
              "      <td>Farmers Insurance - Paul Lorenz</td>\n",
              "      <td>85338</td>\n",
              "      <td>3</td>\n",
              "      <td>5.0</td>\n",
              "      <td>AZ</td>\n",
              "    </tr>\n",
              "    <tr>\n",
              "      <th>4</th>\n",
              "      <td>4209 Stuart Andrew Blvd, Ste F</td>\n",
              "      <td>NaN</td>\n",
              "      <td>NaN</td>\n",
              "      <td>NaN</td>\n",
              "      <td>NaN</td>\n",
              "      <td>NaN</td>\n",
              "      <td>NaN</td>\n",
              "      <td>NaN</td>\n",
              "      <td>NaN</td>\n",
              "      <td>NaN</td>\n",
              "      <td>False</td>\n",
              "      <td>True</td>\n",
              "      <td>NaN</td>\n",
              "      <td>True</td>\n",
              "      <td>NaN</td>\n",
              "      <td>NaN</td>\n",
              "      <td>NaN</td>\n",
              "      <td>NaN</td>\n",
              "      <td>NaN</td>\n",
              "      <td>NaN</td>\n",
              "      <td>NaN</td>\n",
              "      <td>NaN</td>\n",
              "      <td>NaN</td>\n",
              "      <td>NaN</td>\n",
              "      <td>NaN</td>\n",
              "      <td>NaN</td>\n",
              "      <td>NaN</td>\n",
              "      <td>NaN</td>\n",
              "      <td>NaN</td>\n",
              "      <td>NaN</td>\n",
              "      <td>NaN</td>\n",
              "      <td>NaN</td>\n",
              "      <td>NaN</td>\n",
              "      <td>NaN</td>\n",
              "      <td>NaN</td>\n",
              "      <td>NaN</td>\n",
              "      <td>NaN</td>\n",
              "      <td>NaN</td>\n",
              "      <td>NaN</td>\n",
              "      <td>NaN</td>\n",
              "      <td>NaN</td>\n",
              "      <td>HhyxOkGAM07SRYtlQ4wMFQ</td>\n",
              "      <td>Plumbing, Shopping, Local Services, Home Servi...</td>\n",
              "      <td>Charlotte</td>\n",
              "      <td>NaN</td>\n",
              "      <td>7:0-23:0</td>\n",
              "      <td>7:0-23:0</td>\n",
              "      <td>7:0-23:0</td>\n",
              "      <td>7:0-23:0</td>\n",
              "      <td>7:0-23:0</td>\n",
              "      <td>7:0-23:0</td>\n",
              "      <td>7:0-23:0</td>\n",
              "      <td>1</td>\n",
              "      <td>35.190012</td>\n",
              "      <td>-80.887223</td>\n",
              "      <td>Queen City Plumbing</td>\n",
              "      <td>28217</td>\n",
              "      <td>4</td>\n",
              "      <td>4.0</td>\n",
              "      <td>NC</td>\n",
              "    </tr>\n",
              "  </tbody>\n",
              "</table>\n",
              "</div>"
            ],
            "text/plain": [
              "                          address  attributes  ... stars state\n",
              "0     2818 E Camino Acequia Drive         NaN  ...   3.0    AZ\n",
              "1            30 Eglinton Avenue W         NaN  ...   2.5    ON\n",
              "2       10110 Johnston Rd, Ste 15         NaN  ...   4.0    NC\n",
              "3   15655 W Roosevelt St, Ste 237         NaN  ...   5.0    AZ\n",
              "4  4209 Stuart Andrew Blvd, Ste F         NaN  ...   4.0    NC\n",
              "\n",
              "[5 rows x 60 columns]"
            ]
          },
          "metadata": {
            "tags": []
          },
          "execution_count": 27
        }
      ]
    },
    {
      "cell_type": "code",
      "metadata": {
        "id": "MqoR-UlMYyu1",
        "colab_type": "code",
        "colab": {}
      },
      "source": [
        "list.sort( list( Counter(business['city']).values() ) )"
      ],
      "execution_count": 0,
      "outputs": []
    },
    {
      "cell_type": "code",
      "metadata": {
        "id": "122kWcHMXbqJ",
        "colab_type": "code",
        "outputId": "bb92be50-5112-447c-bdd4-4bb1b49a416d",
        "colab": {
          "base_uri": "https://localhost:8080/",
          "height": 165
        }
      },
      "source": [
        "review.head(1)"
      ],
      "execution_count": 0,
      "outputs": [
        {
          "output_type": "execute_result",
          "data": {
            "text/html": [
              "<div>\n",
              "<style scoped>\n",
              "    .dataframe tbody tr th:only-of-type {\n",
              "        vertical-align: middle;\n",
              "    }\n",
              "\n",
              "    .dataframe tbody tr th {\n",
              "        vertical-align: top;\n",
              "    }\n",
              "\n",
              "    .dataframe thead th {\n",
              "        text-align: right;\n",
              "    }\n",
              "</style>\n",
              "<table border=\"1\" class=\"dataframe\">\n",
              "  <thead>\n",
              "    <tr style=\"text-align: right;\">\n",
              "      <th></th>\n",
              "      <th>business_id</th>\n",
              "      <th>cool</th>\n",
              "      <th>date</th>\n",
              "      <th>funny</th>\n",
              "      <th>review_id</th>\n",
              "      <th>stars</th>\n",
              "      <th>text</th>\n",
              "      <th>useful</th>\n",
              "      <th>user_id</th>\n",
              "    </tr>\n",
              "  </thead>\n",
              "  <tbody>\n",
              "    <tr>\n",
              "      <th>0</th>\n",
              "      <td>ujmEBvifdJM6h6RLv4wQIg</td>\n",
              "      <td>0</td>\n",
              "      <td>2013-05-07 04:34:36</td>\n",
              "      <td>1.0</td>\n",
              "      <td>Q1sbwvVQXV2734tPgoKj4Q</td>\n",
              "      <td>1.0</td>\n",
              "      <td>Total bill for this horrible service? Over $8G...</td>\n",
              "      <td>6.0</td>\n",
              "      <td>hG7b0MtEbXx5QzbzE6C_VA</td>\n",
              "    </tr>\n",
              "  </tbody>\n",
              "</table>\n",
              "</div>"
            ],
            "text/plain": [
              "              business_id  cool  ... useful                 user_id\n",
              "0  ujmEBvifdJM6h6RLv4wQIg     0  ...    6.0  hG7b0MtEbXx5QzbzE6C_VA\n",
              "\n",
              "[1 rows x 9 columns]"
            ]
          },
          "metadata": {
            "tags": []
          },
          "execution_count": 17
        }
      ]
    },
    {
      "cell_type": "code",
      "metadata": {
        "id": "-EIXf3sPdULE",
        "colab_type": "code",
        "outputId": "9e925f9d-4a0c-4e44-d072-0b65f6907795",
        "colab": {
          "base_uri": "https://localhost:8080/",
          "height": 289
        }
      },
      "source": [
        "tip.head(5)"
      ],
      "execution_count": 0,
      "outputs": [
        {
          "output_type": "execute_result",
          "data": {
            "text/html": [
              "<div>\n",
              "<style scoped>\n",
              "    .dataframe tbody tr th:only-of-type {\n",
              "        vertical-align: middle;\n",
              "    }\n",
              "\n",
              "    .dataframe tbody tr th {\n",
              "        vertical-align: top;\n",
              "    }\n",
              "\n",
              "    .dataframe thead th {\n",
              "        text-align: right;\n",
              "    }\n",
              "</style>\n",
              "<table border=\"1\" class=\"dataframe\">\n",
              "  <thead>\n",
              "    <tr style=\"text-align: right;\">\n",
              "      <th></th>\n",
              "      <th>business_id</th>\n",
              "      <th>compliment_count</th>\n",
              "      <th>date</th>\n",
              "      <th>text</th>\n",
              "      <th>user_id</th>\n",
              "    </tr>\n",
              "  </thead>\n",
              "  <tbody>\n",
              "    <tr>\n",
              "      <th>0</th>\n",
              "      <td>VaKXUpmWTTWDKbpJ3aQdMw</td>\n",
              "      <td>0</td>\n",
              "      <td>2014-03-27 03:51:24</td>\n",
              "      <td>Great for watching games, ufc, and whatever el...</td>\n",
              "      <td>UPw5DWs_b-e2JRBS-t37Ag</td>\n",
              "    </tr>\n",
              "    <tr>\n",
              "      <th>1</th>\n",
              "      <td>OPiPeoJiv92rENwbq76orA</td>\n",
              "      <td>0</td>\n",
              "      <td>2013-05-25 06:00:56</td>\n",
              "      <td>Happy Hour 2-4 daily with 1/2 price drinks and...</td>\n",
              "      <td>Ocha4kZBHb4JK0lOWvE0sg</td>\n",
              "    </tr>\n",
              "    <tr>\n",
              "      <th>2</th>\n",
              "      <td>5KheTjYPu1HcQzQFtm4_vw</td>\n",
              "      <td>0</td>\n",
              "      <td>2011-12-26 01:46:17</td>\n",
              "      <td>Good chips and salsa. Loud at times. Good serv...</td>\n",
              "      <td>jRyO2V1pA4CdVVqCIOPc1Q</td>\n",
              "    </tr>\n",
              "    <tr>\n",
              "      <th>3</th>\n",
              "      <td>TkoyGi8J7YFjA6SbaRzrxg</td>\n",
              "      <td>0</td>\n",
              "      <td>2014-03-23 21:32:49</td>\n",
              "      <td>The setting and decoration here is amazing. Co...</td>\n",
              "      <td>FuTJWFYm4UKqewaosss1KA</td>\n",
              "    </tr>\n",
              "    <tr>\n",
              "      <th>4</th>\n",
              "      <td>AkL6Ous6A1atZejfZXn1Bg</td>\n",
              "      <td>0</td>\n",
              "      <td>2012-10-06 00:19:27</td>\n",
              "      <td>Molly is definately taking a picture with Sant...</td>\n",
              "      <td>LUlKtaM3nXd-E4N4uOk_fQ</td>\n",
              "    </tr>\n",
              "  </tbody>\n",
              "</table>\n",
              "</div>"
            ],
            "text/plain": [
              "              business_id  ...                 user_id\n",
              "0  VaKXUpmWTTWDKbpJ3aQdMw  ...  UPw5DWs_b-e2JRBS-t37Ag\n",
              "1  OPiPeoJiv92rENwbq76orA  ...  Ocha4kZBHb4JK0lOWvE0sg\n",
              "2  5KheTjYPu1HcQzQFtm4_vw  ...  jRyO2V1pA4CdVVqCIOPc1Q\n",
              "3  TkoyGi8J7YFjA6SbaRzrxg  ...  FuTJWFYm4UKqewaosss1KA\n",
              "4  AkL6Ous6A1atZejfZXn1Bg  ...  LUlKtaM3nXd-E4N4uOk_fQ\n",
              "\n",
              "[5 rows x 5 columns]"
            ]
          },
          "metadata": {
            "tags": []
          },
          "execution_count": 21
        }
      ]
    },
    {
      "cell_type": "code",
      "metadata": {
        "id": "DolOZz5OdXAd",
        "colab_type": "code",
        "outputId": "b6803b2b-f28b-43da-e626-be9f915d7545",
        "colab": {
          "base_uri": "https://localhost:8080/",
          "height": 309
        }
      },
      "source": [
        "user.head(5)"
      ],
      "execution_count": 0,
      "outputs": [
        {
          "output_type": "execute_result",
          "data": {
            "text/html": [
              "<div>\n",
              "<style scoped>\n",
              "    .dataframe tbody tr th:only-of-type {\n",
              "        vertical-align: middle;\n",
              "    }\n",
              "\n",
              "    .dataframe tbody tr th {\n",
              "        vertical-align: top;\n",
              "    }\n",
              "\n",
              "    .dataframe thead th {\n",
              "        text-align: right;\n",
              "    }\n",
              "</style>\n",
              "<table border=\"1\" class=\"dataframe\">\n",
              "  <thead>\n",
              "    <tr style=\"text-align: right;\">\n",
              "      <th></th>\n",
              "      <th>average_stars</th>\n",
              "      <th>compliment_cool</th>\n",
              "      <th>compliment_cute</th>\n",
              "      <th>compliment_funny</th>\n",
              "      <th>compliment_hot</th>\n",
              "      <th>compliment_list</th>\n",
              "      <th>compliment_more</th>\n",
              "      <th>compliment_note</th>\n",
              "      <th>compliment_photos</th>\n",
              "      <th>compliment_plain</th>\n",
              "      <th>compliment_profile</th>\n",
              "      <th>compliment_writer</th>\n",
              "      <th>cool</th>\n",
              "      <th>elite</th>\n",
              "      <th>fans</th>\n",
              "      <th>friends</th>\n",
              "      <th>funny</th>\n",
              "      <th>name</th>\n",
              "      <th>review_count</th>\n",
              "      <th>useful</th>\n",
              "      <th>user_id</th>\n",
              "      <th>yelping_since</th>\n",
              "    </tr>\n",
              "  </thead>\n",
              "  <tbody>\n",
              "    <tr>\n",
              "      <th>0</th>\n",
              "      <td>4.03</td>\n",
              "      <td>1</td>\n",
              "      <td>0</td>\n",
              "      <td>1</td>\n",
              "      <td>2</td>\n",
              "      <td>0</td>\n",
              "      <td>0</td>\n",
              "      <td>1</td>\n",
              "      <td>0</td>\n",
              "      <td>1</td>\n",
              "      <td>0</td>\n",
              "      <td>2</td>\n",
              "      <td>25</td>\n",
              "      <td>2015,2016,2017</td>\n",
              "      <td>5</td>\n",
              "      <td>c78V-rj8NQcQjOI8KP3UEA, alRMgPcngYSCJ5naFRBz5g...</td>\n",
              "      <td>17</td>\n",
              "      <td>Rashmi</td>\n",
              "      <td>95</td>\n",
              "      <td>84</td>\n",
              "      <td>l6BmjZMeQD3rDxWUbiAiow</td>\n",
              "      <td>2013-10-08 23:11:33</td>\n",
              "    </tr>\n",
              "    <tr>\n",
              "      <th>1</th>\n",
              "      <td>3.63</td>\n",
              "      <td>1</td>\n",
              "      <td>0</td>\n",
              "      <td>1</td>\n",
              "      <td>1</td>\n",
              "      <td>0</td>\n",
              "      <td>0</td>\n",
              "      <td>0</td>\n",
              "      <td>0</td>\n",
              "      <td>0</td>\n",
              "      <td>0</td>\n",
              "      <td>0</td>\n",
              "      <td>16</td>\n",
              "      <td>NaN</td>\n",
              "      <td>4</td>\n",
              "      <td>kEBTgDvFX754S68FllfCaA, aB2DynOxNOJK9st2ZeGTPg...</td>\n",
              "      <td>22</td>\n",
              "      <td>Jenna</td>\n",
              "      <td>33</td>\n",
              "      <td>48</td>\n",
              "      <td>4XChL029mKr5hydo79Ljxg</td>\n",
              "      <td>2013-02-21 22:29:06</td>\n",
              "    </tr>\n",
              "    <tr>\n",
              "      <th>2</th>\n",
              "      <td>3.71</td>\n",
              "      <td>0</td>\n",
              "      <td>0</td>\n",
              "      <td>0</td>\n",
              "      <td>0</td>\n",
              "      <td>0</td>\n",
              "      <td>0</td>\n",
              "      <td>1</td>\n",
              "      <td>0</td>\n",
              "      <td>0</td>\n",
              "      <td>0</td>\n",
              "      <td>0</td>\n",
              "      <td>10</td>\n",
              "      <td>NaN</td>\n",
              "      <td>0</td>\n",
              "      <td>4N-HU_T32hLENLntsNKNBg, pSY2vwWLgWfGVAAiKQzMng...</td>\n",
              "      <td>8</td>\n",
              "      <td>David</td>\n",
              "      <td>16</td>\n",
              "      <td>28</td>\n",
              "      <td>bc8C_eETBWL0olvFSJJd0w</td>\n",
              "      <td>2013-10-04 00:16:10</td>\n",
              "    </tr>\n",
              "    <tr>\n",
              "      <th>3</th>\n",
              "      <td>4.85</td>\n",
              "      <td>0</td>\n",
              "      <td>0</td>\n",
              "      <td>0</td>\n",
              "      <td>1</td>\n",
              "      <td>0</td>\n",
              "      <td>0</td>\n",
              "      <td>0</td>\n",
              "      <td>0</td>\n",
              "      <td>2</td>\n",
              "      <td>0</td>\n",
              "      <td>1</td>\n",
              "      <td>14</td>\n",
              "      <td>NaN</td>\n",
              "      <td>5</td>\n",
              "      <td>RZ6wS38wnlXyj-OOdTzBxA, l5jxZh1KsgI8rMunm-GN6A...</td>\n",
              "      <td>4</td>\n",
              "      <td>Angela</td>\n",
              "      <td>17</td>\n",
              "      <td>30</td>\n",
              "      <td>dD0gZpBctWGdWo9WlGuhlA</td>\n",
              "      <td>2014-05-22 15:57:30</td>\n",
              "    </tr>\n",
              "    <tr>\n",
              "      <th>4</th>\n",
              "      <td>4.08</td>\n",
              "      <td>80</td>\n",
              "      <td>0</td>\n",
              "      <td>80</td>\n",
              "      <td>28</td>\n",
              "      <td>1</td>\n",
              "      <td>1</td>\n",
              "      <td>16</td>\n",
              "      <td>5</td>\n",
              "      <td>57</td>\n",
              "      <td>0</td>\n",
              "      <td>25</td>\n",
              "      <td>665</td>\n",
              "      <td>2015,2016,2017,2018</td>\n",
              "      <td>39</td>\n",
              "      <td>mbwrZ-RS76V1HoJ0bF_Geg, g64lOV39xSLRZO0aQQ6DeQ...</td>\n",
              "      <td>279</td>\n",
              "      <td>Nancy</td>\n",
              "      <td>361</td>\n",
              "      <td>1114</td>\n",
              "      <td>MM4RJAeH6yuaN8oZDSt0RA</td>\n",
              "      <td>2013-10-23 07:02:50</td>\n",
              "    </tr>\n",
              "  </tbody>\n",
              "</table>\n",
              "</div>"
            ],
            "text/plain": [
              "   average_stars  compliment_cool  ...                 user_id        yelping_since\n",
              "0           4.03                1  ...  l6BmjZMeQD3rDxWUbiAiow  2013-10-08 23:11:33\n",
              "1           3.63                1  ...  4XChL029mKr5hydo79Ljxg  2013-02-21 22:29:06\n",
              "2           3.71                0  ...  bc8C_eETBWL0olvFSJJd0w  2013-10-04 00:16:10\n",
              "3           4.85                0  ...  dD0gZpBctWGdWo9WlGuhlA  2014-05-22 15:57:30\n",
              "4           4.08               80  ...  MM4RJAeH6yuaN8oZDSt0RA  2013-10-23 07:02:50\n",
              "\n",
              "[5 rows x 22 columns]"
            ]
          },
          "metadata": {
            "tags": []
          },
          "execution_count": 22
        }
      ]
    },
    {
      "cell_type": "code",
      "metadata": {
        "id": "mcCD63w3dm8A",
        "colab_type": "code",
        "colab": {}
      },
      "source": [
        "\n"
      ],
      "execution_count": 0,
      "outputs": []
    },
    {
      "cell_type": "markdown",
      "metadata": {
        "id": "J6zXLoo1jpDp",
        "colab_type": "text"
      },
      "source": [
        "## What we can do \n",
        "\n",
        "1. Check what is the language of a given review  \n",
        "  Wrap it as a function whose input is any string, output is a string indicating the language of the string.  \n",
        "\n",
        "2. Word Cloud of a store(Good Visualization)  \n",
        "  The height of each word indicates frequency of the word in the entire review corpus of this store.  \n",
        "  Also a histogram of ten most common words  \n",
        "  Try Bigram, Trigram with `Gensim` package\n",
        "  \n",
        "3. AFINN Lexicon  \n",
        "  A common lexicon for sentiment analysis, calculate sentiment based on it.  \n",
        "  `afinn` python library  \n",
        "  Check on [Github](https://github.com/fnielsen/afinn/tree/master/afinn/data)  \n",
        "  [Usage](https://medium.com/@himanshu_23732/sentiment-analysis-with-afinn-lexicon-930533dfe75b) of this lexicon\n",
        "  \n",
        "4. Relationship among words\n",
        "  Clustering words in reviews\n",
        "  \n",
        "  \n",
        "5. Business potential in a given city\n",
        "Given a city, we provide information to help start a new restaurant, like which kind of food to serve\n",
        "  \n",
        "  \n",
        "6. LDA: Latent Dirichlet Allocation  \n",
        "  [Elementary Explaination](https://medium.com/@lettier/how-does-lda-work-ill-explain-using-emoji-108abf40fa7d)  \n",
        "\n",
        "  DBSCAN(Density-Based Spatial Clustering of Applications with Noise)\n",
        "\n",
        "\n",
        "7. Topic Model\n",
        "  \n",
        "  \n",
        "  \n",
        "  \n",
        "  \n",
        "****\n",
        "**Note**\n",
        "\n",
        "1. After good visualization, useful business insight still need human interpretation, any way to automatically generate, detect insight\n",
        "  \n",
        "  \n",
        "  \n",
        "  \n",
        "  \n",
        "  \n",
        "  \n",
        "****\n",
        "**Reference**  \n",
        "1. [Kaggle, extensive data analysis of yelp](https://www.kaggle.com/ambarish/a-very-extensive-data-analysis-of-yelp/report)\n",
        "\n",
        "2. [Network Analysis in Python](https://programminghistorian.org/en/lessons/exploring-and-analyzing-network-data-with-python#basics-of-networkx-creating-the-graph)"
      ]
    },
    {
      "cell_type": "code",
      "metadata": {
        "id": "nrjuQMm60gwj",
        "colab_type": "code",
        "colab": {}
      },
      "source": [
        ""
      ],
      "execution_count": 0,
      "outputs": []
    },
    {
      "cell_type": "markdown",
      "metadata": {
        "id": "fgq5_614xFCK",
        "colab_type": "text"
      },
      "source": [
        "## Latent Dirichlet Allocation\n",
        "\n",
        "Work solely on the `review` dataset.  "
      ]
    },
    {
      "cell_type": "code",
      "metadata": {
        "id": "eu59nzcM3F2E",
        "colab_type": "code",
        "outputId": "cef740f1-03c2-4a10-813a-aeba9926b834",
        "colab": {
          "base_uri": "https://localhost:8080/",
          "height": 468
        }
      },
      "source": [
        "# display the `review` dataset\n",
        "review.head(3)"
      ],
      "execution_count": 6,
      "outputs": [
        {
          "output_type": "execute_result",
          "data": {
            "text/html": [
              "<div>\n",
              "<style scoped>\n",
              "    .dataframe tbody tr th:only-of-type {\n",
              "        vertical-align: middle;\n",
              "    }\n",
              "\n",
              "    .dataframe tbody tr th {\n",
              "        vertical-align: top;\n",
              "    }\n",
              "\n",
              "    .dataframe thead th {\n",
              "        text-align: right;\n",
              "    }\n",
              "</style>\n",
              "<table border=\"1\" class=\"dataframe\">\n",
              "  <thead>\n",
              "    <tr style=\"text-align: right;\">\n",
              "      <th></th>\n",
              "      <th>business_id</th>\n",
              "      <th>cool</th>\n",
              "      <th>date</th>\n",
              "      <th>funny</th>\n",
              "      <th>review_id</th>\n",
              "      <th>stars</th>\n",
              "      <th>text</th>\n",
              "      <th>useful</th>\n",
              "      <th>user_id</th>\n",
              "    </tr>\n",
              "  </thead>\n",
              "  <tbody>\n",
              "    <tr>\n",
              "      <th>0</th>\n",
              "      <td>ujmEBvifdJM6h6RLv4wQIg</td>\n",
              "      <td>0</td>\n",
              "      <td>2013-05-07 04:34:36</td>\n",
              "      <td>1.0</td>\n",
              "      <td>Q1sbwvVQXV2734tPgoKj4Q</td>\n",
              "      <td>1.0</td>\n",
              "      <td>Total bill for this horrible service? Over $8G...</td>\n",
              "      <td>6.0</td>\n",
              "      <td>hG7b0MtEbXx5QzbzE6C_VA</td>\n",
              "    </tr>\n",
              "    <tr>\n",
              "      <th>1</th>\n",
              "      <td>NZnhc2sEQy3RmzKTZnqtwQ</td>\n",
              "      <td>0</td>\n",
              "      <td>2017-01-14 21:30:33</td>\n",
              "      <td>0.0</td>\n",
              "      <td>GJXCdrto3ASJOqKeVWPi6Q</td>\n",
              "      <td>5.0</td>\n",
              "      <td>I *adore* Travis at the Hard Rock's new Kelly ...</td>\n",
              "      <td>0.0</td>\n",
              "      <td>yXQM5uF2jS6es16SJzNHfg</td>\n",
              "    </tr>\n",
              "    <tr>\n",
              "      <th>2</th>\n",
              "      <td>WTqjgwHlXbSFevF32_DJVw</td>\n",
              "      <td>0</td>\n",
              "      <td>2016-11-09 20:09:03</td>\n",
              "      <td>0.0</td>\n",
              "      <td>2TzJjDVDEuAW6MR5Vuc1ug</td>\n",
              "      <td>5.0</td>\n",
              "      <td>I have to say that this office really has it t...</td>\n",
              "      <td>3.0</td>\n",
              "      <td>n6-Gk65cPZL6Uz8qRm3NYw</td>\n",
              "    </tr>\n",
              "  </tbody>\n",
              "</table>\n",
              "</div>"
            ],
            "text/plain": [
              "              business_id  cool  ... useful                 user_id\n",
              "0  ujmEBvifdJM6h6RLv4wQIg     0  ...    6.0  hG7b0MtEbXx5QzbzE6C_VA\n",
              "1  NZnhc2sEQy3RmzKTZnqtwQ     0  ...    0.0  yXQM5uF2jS6es16SJzNHfg\n",
              "2  WTqjgwHlXbSFevF32_DJVw     0  ...    3.0  n6-Gk65cPZL6Uz8qRm3NYw\n",
              "\n",
              "[3 rows x 9 columns]"
            ]
          },
          "metadata": {
            "tags": []
          },
          "execution_count": 6
        }
      ]
    },
    {
      "cell_type": "code",
      "metadata": {
        "id": "CETJpUt3I1Og",
        "colab_type": "code",
        "colab": {
          "base_uri": "https://localhost:8080/",
          "height": 34
        },
        "outputId": "971d2964-7bd5-47ed-9ead-c2563289519b"
      },
      "source": [
        "type(review['stars'][0])"
      ],
      "execution_count": 11,
      "outputs": [
        {
          "output_type": "execute_result",
          "data": {
            "text/plain": [
              "numpy.float64"
            ]
          },
          "metadata": {
            "tags": []
          },
          "execution_count": 11
        }
      ]
    },
    {
      "cell_type": "code",
      "metadata": {
        "id": "kkgS5yJP4HZ8",
        "colab_type": "code",
        "outputId": "9c00f013-d81d-4534-afdb-d1d783977497",
        "colab": {
          "base_uri": "https://localhost:8080/",
          "height": 119
        }
      },
      "source": [
        "# Remove punctuation\n",
        "review['textTokenized'] = review['text'].map(lambda x: re.sub('[,\\.!?]', ' ', str(x)))\n",
        "\n",
        "# Convert the titles to lowercase\n",
        "review['textTokenized'] = review['textTokenized'].map(lambda x: x.lower())\n",
        "\n",
        "# Print out the first rows of papers\n",
        "review['textTokenized'].head()"
      ],
      "execution_count": 7,
      "outputs": [
        {
          "output_type": "execute_result",
          "data": {
            "text/plain": [
              "0    total bill for this horrible service  over $8g...\n",
              "1    i *adore* travis at the hard rock's new kelly ...\n",
              "2    i have to say that this office really has it t...\n",
              "3    went in for a lunch  steak sandwich was delici...\n",
              "4    today was my second out of three sessions i ha...\n",
              "Name: textTokenized, dtype: object"
            ]
          },
          "metadata": {
            "tags": []
          },
          "execution_count": 7
        }
      ]
    },
    {
      "cell_type": "code",
      "metadata": {
        "id": "ujcyNncO5Sds",
        "colab_type": "code",
        "colab": {
          "base_uri": "https://localhost:8080/",
          "height": 217
        },
        "outputId": "feac029e-9108-4009-89cd-b9b56a414b39"
      },
      "source": [
        "# Join the different processed titles together.\n",
        "long_string = ','.join(list(review['textTokenized'].values[1:5000]))\n",
        "\n",
        "# Create a WordCloud object\n",
        "wordcloud = WordCloud(background_color=\"white\", max_words=1000, contour_width=3, contour_color='steelblue')\n",
        "\n",
        "# Generate a word cloud\n",
        "wordcloud.generate(long_string)\n",
        "\n",
        "# Visualize the word cloud\n",
        "wordcloud.to_image()"
      ],
      "execution_count": 8,
      "outputs": [
        {
          "output_type": "execute_result",
          "data": {
            "image/png": "[encoded data removed]",
            "text/plain": [
              "<PIL.Image.Image image mode=RGB size=400x200 at 0x7FA69331DF60>"
            ]
          },
          "metadata": {
            "tags": []
          },
          "execution_count": 8
        }
      ]
    },
    {
      "cell_type": "code",
      "metadata": {
        "id": "u8lsQCxz7TNS",
        "colab_type": "code",
        "colab": {
          "base_uri": "https://localhost:8080/",
          "height": 608
        },
        "outputId": "ad56cb56-4b22-4c9c-c5c7-41579d1c97d8"
      },
      "source": [
        "# Load the library with the CountVectorizer method\n",
        "from sklearn.feature_extraction.text import CountVectorizer\n",
        "import numpy as np\n",
        "\n",
        "import matplotlib.pyplot as plt\n",
        "import seaborn as sns\n",
        "sns.set_style('whitegrid')\n",
        "%matplotlib inline\n",
        "\n",
        "# Helper function\n",
        "def plot_10_most_common_words(count_data, count_vectorizer):\n",
        "    import matplotlib.pyplot as plt\n",
        "    words = count_vectorizer.get_feature_names()\n",
        "    total_counts = np.zeros(len(words))\n",
        "    for t in count_data:\n",
        "        total_counts+=t.toarray()[0]\n",
        "    \n",
        "    count_dict = (zip(words, total_counts))\n",
        "    count_dict = sorted(count_dict, key=lambda x:x[1], reverse=True)[0:10]\n",
        "    words = [w[0] for w in count_dict]\n",
        "    counts = [w[1] for w in count_dict]\n",
        "    x_pos = np.arange(len(words)) \n",
        "    \n",
        "    plt.figure(2, figsize=(15, 15/1.6180))\n",
        "    plt.subplot(title='10 most common words')\n",
        "    sns.set_context(\"notebook\", font_scale=1.25, rc={\"lines.linewidth\": 2.5})\n",
        "    sns.barplot(x_pos, counts, palette='husl')\n",
        "    plt.xticks(x_pos, words, rotation=90) \n",
        "    plt.xlabel('words')\n",
        "    plt.ylabel('counts')\n",
        "    plt.show()\n",
        "\n",
        "# Initialise the count vectorizer with the English stop words\n",
        "count_vectorizer = CountVectorizer(stop_words='english')\n",
        "\n",
        "# Fit and transform the processed titles\n",
        "count_data = count_vectorizer.fit_transform(review['textTokenized'][1:5000])\n",
        "\n",
        "# Visualise the 10 most common words\n",
        "plot_10_most_common_words(count_data, count_vectorizer)"
      ],
      "execution_count": 9,
      "outputs": [
        {
          "output_type": "display_data",
          "data": {
            "image/png": "[encoded data removed]",
            "text/plain": [
              "<Figure size 1080x667.491 with 1 Axes>"
            ]
          },
          "metadata": {
            "tags": []
          }
        }
      ]
    },
    {
      "cell_type": "code",
      "metadata": {
        "id": "7yyRDnPRHMae",
        "colab_type": "code",
        "colab": {
          "base_uri": "https://localhost:8080/",
          "height": 289
        },
        "outputId": "582800be-baa4-494a-9204-6b5fd1756c32"
      },
      "source": [
        "import warnings\n",
        "warnings.simplefilter(\"ignore\", DeprecationWarning)\n",
        "\n",
        "# Load the LDA model from sk-learn\n",
        "from sklearn.decomposition import LatentDirichletAllocation as LDA\n",
        " \n",
        "# Helper function\n",
        "def print_topics(model, count_vectorizer, n_top_words):\n",
        "    words = count_vectorizer.get_feature_names()\n",
        "    for topic_idx, topic in enumerate(model.components_):\n",
        "        print(\"\\nTopic #%d:\" % topic_idx)\n",
        "        print(\" \".join([words[i]\n",
        "                        for i in topic.argsort()[:-n_top_words - 1:-1]]))\n",
        "        \n",
        "# Tweak the two parameters below (use int values below 15)\n",
        "number_topics = 5\n",
        "number_words = 10\n",
        "\n",
        "# Create and fit the LDA model\n",
        "lda = LDA(n_components=number_topics)\n",
        "lda.fit(count_data)\n",
        "\n",
        "# Print the topics found by the LDA model\n",
        "print(\"Topics found via LDA:\")\n",
        "print_topics(lda, count_vectorizer, number_words)"
      ],
      "execution_count": 10,
      "outputs": [
        {
          "output_type": "stream",
          "text": [
            "Topics found via LDA:\n",
            "\n",
            "Topic #0:\n",
            "time just service like place said didn did got food\n",
            "\n",
            "Topic #1:\n",
            "great good place love time like just service staff friendly\n",
            "\n",
            "Topic #2:\n",
            "place staff great dr friendly nice dim et sum love\n",
            "\n",
            "Topic #3:\n",
            "food good place great like service chicken just really ordered\n",
            "\n",
            "Topic #4:\n",
            "time recommend place work great highly did just hair service\n"
          ],
          "name": "stdout"
        }
      ]
    },
    {
      "cell_type": "code",
      "metadata": {
        "id": "7zRHTlZkIkcU",
        "colab_type": "code",
        "colab": {
          "base_uri": "https://localhost:8080/",
          "height": 119
        },
        "outputId": "71bb16d9-6bbd-4b04-eb54-d569b2ddad9d"
      },
      "source": [
        "badReview = review['textTokenized'][review['stars'] <= 2.1]\n",
        "badReview.head()"
      ],
      "execution_count": 14,
      "outputs": [
        {
          "output_type": "execute_result",
          "data": {
            "text/plain": [
              "0     total bill for this horrible service  over $8g...\n",
              "4     today was my second out of three sessions i ha...\n",
              "7     this place has gone down hill   clearly they h...\n",
              "8     i was really looking forward to visiting after...\n",
              "11    walked in around 4 on a friday afternoon  we s...\n",
              "Name: textTokenized, dtype: object"
            ]
          },
          "metadata": {
            "tags": []
          },
          "execution_count": 14
        }
      ]
    },
    {
      "cell_type": "code",
      "metadata": {
        "id": "5Bv7iqueHYoT",
        "colab_type": "code",
        "colab": {}
      },
      "source": [
        "# Load the library with the CountVectorizer method\n",
        "from sklearn.feature_extraction.text import CountVectorizer\n",
        "import numpy as np\n",
        "\n",
        "import matplotlib.pyplot as plt\n",
        "import seaborn as sns\n",
        "sns.set_style('whitegrid')\n",
        "%matplotlib inline\n",
        "\n",
        "# Helper function\n",
        "def plot_10_most_common_words(count_data, count_vectorizer):\n",
        "    import matplotlib.pyplot as plt\n",
        "    words = count_vectorizer.get_feature_names()\n",
        "    total_counts = np.zeros(len(words))\n",
        "    for t in count_data:\n",
        "        total_counts+=t.toarray()[0]\n",
        "    \n",
        "    count_dict = (zip(words, total_counts))\n",
        "    count_dict = sorted(count_dict, key=lambda x:x[1], reverse=True)[0:10]\n",
        "    words = [w[0] for w in count_dict]\n",
        "    counts = [w[1] for w in count_dict]\n",
        "    x_pos = np.arange(len(words)) \n",
        "    \n",
        "    plt.figure(2, figsize=(15, 15/1.6180))\n",
        "    plt.subplot(title='10 most common words')\n",
        "    sns.set_context(\"notebook\", font_scale=1.25, rc={\"lines.linewidth\": 2.5})\n",
        "    sns.barplot(x_pos, counts, palette='husl')\n",
        "    plt.xticks(x_pos, words, rotation=90) \n",
        "    plt.xlabel('words')\n",
        "    plt.ylabel('counts')\n",
        "    plt.show()\n",
        "\n",
        "# Initialise the count vectorizer with the English stop words\n",
        "count_vectorizer = CountVectorizer(stop_words='english')\n",
        "\n",
        "# Fit and transform the processed titles\n",
        "count_data = count_vectorizer.fit_transform(badReview[1:20000])\n",
        "\n",
        "# Visualise the 10 most common words\n",
        "# plot_10_most_common_words(count_data, count_vectorizer)\n",
        "\n",
        "\n",
        "import warnings\n",
        "warnings.simplefilter(\"ignore\", DeprecationWarning)\n",
        "\n",
        "# Load the LDA model from sk-learn\n",
        "from sklearn.decomposition import LatentDirichletAllocation as LDA\n",
        " \n",
        "# Helper function\n",
        "def print_topics(model, count_vectorizer, n_top_words):\n",
        "    words = count_vectorizer.get_feature_names()\n",
        "    for topic_idx, topic in enumerate(model.components_):\n",
        "        print(\"\\nTopic #%d:\" % topic_idx)\n",
        "        print(\" \".join([words[i]\n",
        "                        for i in topic.argsort()[:-n_top_words - 1:-1]]))"
      ],
      "execution_count": 0,
      "outputs": []
    },
    {
      "cell_type": "code",
      "metadata": {
        "id": "PXqtteoARRcH",
        "colab_type": "code",
        "colab": {
          "base_uri": "https://localhost:8080/",
          "height": 391
        },
        "outputId": "c8eb229b-019d-4e99-cdd7-bea5be4f05cb"
      },
      "source": [
        "# Tweak the two parameters below (use int values below 15)\n",
        "number_topics = 7\n",
        "number_words = 10\n",
        "\n",
        "# Create and fit the LDA model\n",
        "lda = LDA(n_components=number_topics)\n",
        "lda.fit(count_data)\n",
        "\n",
        "# Print the topics found by the LDA model\n",
        "print(\"Topics found via LDA:\")\n",
        "print_topics(lda, count_vectorizer, number_words)"
      ],
      "execution_count": 18,
      "outputs": [
        {
          "output_type": "stream",
          "text": [
            "Topics found via LDA:\n",
            "\n",
            "Topic #0:\n",
            "told car time said called service just did don company\n",
            "\n",
            "Topic #1:\n",
            "place store like service don customer location time pizza just\n",
            "\n",
            "Topic #2:\n",
            "food good like place just ordered chicken really better sauce\n",
            "\n",
            "Topic #3:\n",
            "la le et cab pour est pas ontrac place je\n",
            "\n",
            "Topic #4:\n",
            "room hotel place stay like night dirty rooms pool people\n",
            "\n",
            "Topic #5:\n",
            "just like time said asked place didn went people service\n",
            "\n",
            "Topic #6:\n",
            "food service minutes order time table wait came took restaurant\n"
          ],
          "name": "stdout"
        }
      ]
    },
    {
      "cell_type": "code",
      "metadata": {
        "id": "b6BMTGzWJGiS",
        "colab_type": "code",
        "colab": {}
      },
      "source": [
        ""
      ],
      "execution_count": 0,
      "outputs": []
    }
  ]
}